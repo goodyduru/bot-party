{
 "cells": [
  {
   "cell_type": "markdown",
   "metadata": {},
   "source": [
    "# Welcome  \n",
    "You are all welcome to the first session of this reintroduction of **Bot Party** organized by Devamplify. Thanks for being here 🙏. The purpose of this party is to learn about Artificial Intelligence specifically Machine Learning.  \n",
    "\n",
    "For you to implement an machine learning algorithm on a computer, you need to use a programming language. Now, you can use any programming language for implementing machine learning algorithms but for the purpose of this class, we will be using the **Python Programming Language**. The reason we are using Python is because it's a fun, approachable, ubiquitous language and a lot libraries that make it easy to do Machine Learning are implemented in Python.  \n",
    "\n",
    "This session will divided into two parts:  \n",
    "* Introduction and Overview of the Python Programming Language\n",
    "* Introduction to Machine Learning\n",
    "\n",
    "## Introduction To Python Programming Language\n",
    "Python Programming Language is a simple to use but very powerful programming language. It can be used for a wide variety of tasks e.g automation of computer activities, web development, game development and of course Artificial Intelligence 😜. Please note that this session won't cover Python exhaustively, it will just cover those parts that are relevant to the purpose of this Bot Party. If you want to learn more about Python, you can read the python tutorial section of the documentation that comes with every python software. Let's begin.  \n",
    "\n",
    "### Using Python as a mathematical tool\n",
    "Most of the time, I find that it's easier for me to just use python as a calculator instead of the calculator that comes with my computer or phone, \"Why?\" you might ask, because it's easier. Let me show you a few examples:  \n",
    "\n",
    "#### Addition"
   ]
  },
  {
   "cell_type": "code",
   "execution_count": 1,
   "metadata": {},
   "outputs": [
    {
     "data": {
      "text/plain": [
       "8"
      ]
     },
     "execution_count": 1,
     "metadata": {},
     "output_type": "execute_result"
    }
   ],
   "source": [
    "4 + 4"
   ]
  },
  {
   "cell_type": "code",
   "execution_count": 2,
   "metadata": {},
   "outputs": [
    {
     "data": {
      "text/plain": [
       "1022"
      ]
     },
     "execution_count": 2,
     "metadata": {},
     "output_type": "execute_result"
    }
   ],
   "source": [
    "56 + 76 + 890"
   ]
  },
  {
   "cell_type": "markdown",
   "metadata": {},
   "source": [
    "#### Subtraction"
   ]
  },
  {
   "cell_type": "code",
   "execution_count": 3,
   "metadata": {},
   "outputs": [
    {
     "data": {
      "text/plain": [
       "33"
      ]
     },
     "execution_count": 3,
     "metadata": {},
     "output_type": "execute_result"
    }
   ],
   "source": [
    "65 - 32"
   ]
  },
  {
   "cell_type": "code",
   "execution_count": 4,
   "metadata": {},
   "outputs": [
    {
     "data": {
      "text/plain": [
       "-48"
      ]
     },
     "execution_count": 4,
     "metadata": {},
     "output_type": "execute_result"
    }
   ],
   "source": [
    "19 - 67"
   ]
  },
  {
   "cell_type": "markdown",
   "metadata": {},
   "source": [
    "#### Multiplication"
   ]
  },
  {
   "cell_type": "code",
   "execution_count": 5,
   "metadata": {},
   "outputs": [
    {
     "data": {
      "text/plain": [
       "784"
      ]
     },
     "execution_count": 5,
     "metadata": {},
     "output_type": "execute_result"
    }
   ],
   "source": [
    "8 * 98"
   ]
  },
  {
   "cell_type": "code",
   "execution_count": 6,
   "metadata": {},
   "outputs": [
    {
     "data": {
      "text/plain": [
       "360"
      ]
     },
     "execution_count": 6,
     "metadata": {},
     "output_type": "execute_result"
    }
   ],
   "source": [
    "-8 * -45"
   ]
  },
  {
   "cell_type": "markdown",
   "metadata": {},
   "source": [
    "#### Division"
   ]
  },
  {
   "cell_type": "code",
   "execution_count": 7,
   "metadata": {},
   "outputs": [
    {
     "data": {
      "text/plain": [
       "38.0"
      ]
     },
     "execution_count": 7,
     "metadata": {},
     "output_type": "execute_result"
    }
   ],
   "source": [
    "76 / 2"
   ]
  },
  {
   "cell_type": "code",
   "execution_count": 8,
   "metadata": {},
   "outputs": [
    {
     "data": {
      "text/plain": [
       "1.6875"
      ]
     },
     "execution_count": 8,
     "metadata": {},
     "output_type": "execute_result"
    }
   ],
   "source": [
    "54 / 32"
   ]
  },
  {
   "cell_type": "markdown",
   "metadata": {},
   "source": [
    "#### Integer Division"
   ]
  },
  {
   "cell_type": "code",
   "execution_count": 9,
   "metadata": {},
   "outputs": [
    {
     "data": {
      "text/plain": [
       "1"
      ]
     },
     "execution_count": 9,
     "metadata": {},
     "output_type": "execute_result"
    }
   ],
   "source": [
    "54 // 32"
   ]
  },
  {
   "cell_type": "markdown",
   "metadata": {},
   "source": [
    "#### Exponential"
   ]
  },
  {
   "cell_type": "code",
   "execution_count": 10,
   "metadata": {},
   "outputs": [
    {
     "data": {
      "text/plain": [
       "8"
      ]
     },
     "execution_count": 10,
     "metadata": {},
     "output_type": "execute_result"
    }
   ],
   "source": [
    "2**3"
   ]
  },
  {
   "cell_type": "markdown",
   "metadata": {},
   "source": [
    "#### Modulus"
   ]
  },
  {
   "cell_type": "code",
   "execution_count": 11,
   "metadata": {},
   "outputs": [
    {
     "data": {
      "text/plain": [
       "1"
      ]
     },
     "execution_count": 11,
     "metadata": {},
     "output_type": "execute_result"
    }
   ],
   "source": [
    "57 % 4"
   ]
  },
  {
   "cell_type": "markdown",
   "metadata": {},
   "source": [
    "#### Equality"
   ]
  },
  {
   "cell_type": "code",
   "execution_count": 12,
   "metadata": {},
   "outputs": [
    {
     "data": {
      "text/plain": [
       "True"
      ]
     },
     "execution_count": 12,
     "metadata": {},
     "output_type": "execute_result"
    }
   ],
   "source": [
    "5 == 5"
   ]
  },
  {
   "cell_type": "markdown",
   "metadata": {},
   "source": [
    "#### Greater/Less than"
   ]
  },
  {
   "cell_type": "code",
   "execution_count": 13,
   "metadata": {},
   "outputs": [
    {
     "data": {
      "text/plain": [
       "True"
      ]
     },
     "execution_count": 13,
     "metadata": {},
     "output_type": "execute_result"
    }
   ],
   "source": [
    "3 < 5"
   ]
  },
  {
   "cell_type": "markdown",
   "metadata": {},
   "source": [
    "#### Greater/Less than or equal to"
   ]
  },
  {
   "cell_type": "code",
   "execution_count": 14,
   "metadata": {},
   "outputs": [
    {
     "data": {
      "text/plain": [
       "True"
      ]
     },
     "execution_count": 14,
     "metadata": {},
     "output_type": "execute_result"
    }
   ],
   "source": [
    "10 >= 9"
   ]
  },
  {
   "cell_type": "markdown",
   "metadata": {},
   "source": [
    "#### A combination of all of the above"
   ]
  },
  {
   "cell_type": "code",
   "execution_count": 15,
   "metadata": {},
   "outputs": [
    {
     "data": {
      "text/plain": [
       "126.0"
      ]
     },
     "execution_count": 15,
     "metadata": {},
     "output_type": "execute_result"
    }
   ],
   "source": [
    "(56 * (32 + 15 - 20)) / 12"
   ]
  },
  {
   "cell_type": "markdown",
   "metadata": {},
   "source": [
    "### Data Types\n",
    "Data types are ways we represent data in a computer. In the real world, we say numbers or words like 5 is number, eat is a word. In programming, we have a way of telling the computer the type of data we are feeding it. The basic data types in Python are:  \n",
    "* Integers e.g 5, 1, 9, 0\n",
    "* Floats e.g 1.23, 0.333333\n",
    "* Boolean: this has just two values True and False\n",
    "* String e.g \"alpha\", \"take\"\n",
    "* NoneType: just None  \n",
    "\n",
    "\n",
    "In Python, they are known as int, float, bool, str and None. We can actually convert between this data types but only if it's a valid conversion. This is known as **casting**. Let's see some examples:"
   ]
  },
  {
   "cell_type": "code",
   "execution_count": 16,
   "metadata": {},
   "outputs": [
    {
     "data": {
      "text/plain": [
       "2.0"
      ]
     },
     "execution_count": 16,
     "metadata": {},
     "output_type": "execute_result"
    }
   ],
   "source": [
    "float(2)"
   ]
  },
  {
   "cell_type": "code",
   "execution_count": 18,
   "metadata": {},
   "outputs": [
    {
     "data": {
      "text/plain": [
       "1"
      ]
     },
     "execution_count": 18,
     "metadata": {},
     "output_type": "execute_result"
    }
   ],
   "source": [
    "int(1.7)"
   ]
  },
  {
   "cell_type": "code",
   "execution_count": 19,
   "metadata": {},
   "outputs": [
    {
     "data": {
      "text/plain": [
       "True"
      ]
     },
     "execution_count": 19,
     "metadata": {},
     "output_type": "execute_result"
    }
   ],
   "source": [
    "bool(5)"
   ]
  },
  {
   "cell_type": "code",
   "execution_count": 20,
   "metadata": {},
   "outputs": [
    {
     "data": {
      "text/plain": [
       "False"
      ]
     },
     "execution_count": 20,
     "metadata": {},
     "output_type": "execute_result"
    }
   ],
   "source": [
    "bool(0)"
   ]
  },
  {
   "cell_type": "code",
   "execution_count": 21,
   "metadata": {},
   "outputs": [
    {
     "data": {
      "text/plain": [
       "'4'"
      ]
     },
     "execution_count": 21,
     "metadata": {},
     "output_type": "execute_result"
    }
   ],
   "source": [
    "str(4)"
   ]
  },
  {
   "cell_type": "code",
   "execution_count": 22,
   "metadata": {},
   "outputs": [
    {
     "data": {
      "text/plain": [
       "5"
      ]
     },
     "execution_count": 22,
     "metadata": {},
     "output_type": "execute_result"
    }
   ],
   "source": [
    "int('5')"
   ]
  },
  {
   "cell_type": "markdown",
   "metadata": {},
   "source": [
    "This should produce an error"
   ]
  },
  {
   "cell_type": "code",
   "execution_count": 48,
   "metadata": {},
   "outputs": [
    {
     "ename": "ValueError",
     "evalue": "invalid literal for int() with base 16: 'aez'",
     "output_type": "error",
     "traceback": [
      "\u001b[1;31m---------------------------------------------------------------------------\u001b[0m",
      "\u001b[1;31mValueError\u001b[0m                                Traceback (most recent call last)",
      "\u001b[1;32m<ipython-input-48-3b656da0ff75>\u001b[0m in \u001b[0;36m<module>\u001b[1;34m()\u001b[0m\n\u001b[1;32m----> 1\u001b[1;33m \u001b[0mint\u001b[0m\u001b[1;33m(\u001b[0m\u001b[1;34m'aez'\u001b[0m\u001b[1;33m,\u001b[0m \u001b[0mbase\u001b[0m\u001b[1;33m=\u001b[0m\u001b[1;36m16\u001b[0m\u001b[1;33m)\u001b[0m\u001b[1;33m\u001b[0m\u001b[0m\n\u001b[0m",
      "\u001b[1;31mValueError\u001b[0m: invalid literal for int() with base 16: 'aez'"
     ]
    }
   ],
   "source": [
    "int('aez', base=16)"
   ]
  },
  {
   "cell_type": "markdown",
   "metadata": {},
   "source": [
    "Sometimes you may want to represent nothing. In other computer science, it's known as null or the null type. In Python, it's known as None. Here it is"
   ]
  },
  {
   "cell_type": "code",
   "execution_count": 27,
   "metadata": {},
   "outputs": [],
   "source": [
    "None"
   ]
  },
  {
   "cell_type": "markdown",
   "metadata": {},
   "source": [
    "### Variables\n",
    "So far, we've seen some interesting parts of python but if we were to just write programs like the above, it will be a very tedious venture. Here is what I mean, imagine writing a statement like this:"
   ]
  },
  {
   "cell_type": "code",
   "execution_count": 28,
   "metadata": {},
   "outputs": [
    {
     "data": {
      "text/plain": [
       "10"
      ]
     },
     "execution_count": 28,
     "metadata": {},
     "output_type": "execute_result"
    }
   ],
   "source": [
    "int('10')"
   ]
  },
  {
   "cell_type": "markdown",
   "metadata": {},
   "source": [
    "You want to use the above value to multiply a number and so you do this:"
   ]
  },
  {
   "cell_type": "code",
   "execution_count": 29,
   "metadata": {},
   "outputs": [
    {
     "data": {
      "text/plain": [
       "5.0"
      ]
     },
     "execution_count": 29,
     "metadata": {},
     "output_type": "execute_result"
    }
   ],
   "source": [
    "50 / int('10')"
   ]
  },
  {
   "cell_type": "markdown",
   "metadata": {},
   "source": [
    "Now imagine typing `int('10')` several times, that can be quite tiring 😞. What of if we have a way of referencing it for later usage. It turns out that in Python we could have something like this:"
   ]
  },
  {
   "cell_type": "code",
   "execution_count": 30,
   "metadata": {},
   "outputs": [],
   "source": [
    "ten = int('10')"
   ]
  },
  {
   "cell_type": "markdown",
   "metadata": {},
   "source": [
    "`ten` is called a variable. Variables are found in almost every programming language. They are a way of referencing a statement in computer programming. They make it really easy to program and are a fundamental part of programming.  \n",
    "\n",
    "So now we can have this: "
   ]
  },
  {
   "cell_type": "code",
   "execution_count": 31,
   "metadata": {},
   "outputs": [
    {
     "data": {
      "text/plain": [
       "5.0"
      ]
     },
     "execution_count": 31,
     "metadata": {},
     "output_type": "execute_result"
    }
   ],
   "source": [
    "50 / ten"
   ]
  },
  {
   "cell_type": "code",
   "execution_count": 32,
   "metadata": {},
   "outputs": [
    {
     "data": {
      "text/plain": [
       "1000"
      ]
     },
     "execution_count": 32,
     "metadata": {},
     "output_type": "execute_result"
    }
   ],
   "source": [
    "100 * ten"
   ]
  },
  {
   "cell_type": "markdown",
   "metadata": {},
   "source": [
    "We can even print the value of the variable to be sure"
   ]
  },
  {
   "cell_type": "code",
   "execution_count": 33,
   "metadata": {},
   "outputs": [
    {
     "data": {
      "text/plain": [
       "10"
      ]
     },
     "execution_count": 33,
     "metadata": {},
     "output_type": "execute_result"
    }
   ],
   "source": [
    "ten"
   ]
  },
  {
   "cell_type": "markdown",
   "metadata": {},
   "source": [
    "### Strings\n",
    "\n",
    "Strings are data types to represent what we call texts in the real world. Python has excellent string support. In fact, it is the reason why Python is the major programming language for data science and machine learning. Let's look at some basic string representation and operations.\n",
    "\n",
    "#### Representation\n",
    "We can enclose strings in single quotes `'....'` and double quotes `\"....\"`. For example:"
   ]
  },
  {
   "cell_type": "code",
   "execution_count": 34,
   "metadata": {},
   "outputs": [],
   "source": [
    "single = 'hello'\n",
    "double = \"hello\""
   ]
  },
  {
   "cell_type": "markdown",
   "metadata": {},
   "source": [
    "Both of the above are actually equal, we can confirm that they are equal by checking"
   ]
  },
  {
   "cell_type": "code",
   "execution_count": 35,
   "metadata": {},
   "outputs": [
    {
     "data": {
      "text/plain": [
       "True"
      ]
     },
     "execution_count": 35,
     "metadata": {},
     "output_type": "execute_result"
    }
   ],
   "source": [
    "single == double"
   ]
  },
  {
   "cell_type": "markdown",
   "metadata": {},
   "source": [
    "The above operation is called the `equality` operation and it's used to check if two variables are equal. More on that later. So we can see that using single or double quote doesn't really make much of a difference, or does it 😏? Well the only situation where there is a difference is if the string contains a quote. For example, the following will generate an error"
   ]
  },
  {
   "cell_type": "code",
   "execution_count": 36,
   "metadata": {},
   "outputs": [
    {
     "ename": "SyntaxError",
     "evalue": "invalid syntax (<ipython-input-36-69765d643002>, line 1)",
     "output_type": "error",
     "traceback": [
      "\u001b[1;36m  File \u001b[1;32m\"<ipython-input-36-69765d643002>\"\u001b[1;36m, line \u001b[1;32m1\u001b[0m\n\u001b[1;33m    contains_quote = 'don't'\u001b[0m\n\u001b[1;37m                          ^\u001b[0m\n\u001b[1;31mSyntaxError\u001b[0m\u001b[1;31m:\u001b[0m invalid syntax\n"
     ]
    }
   ],
   "source": [
    "contains_quote = 'don't'"
   ]
  },
  {
   "cell_type": "markdown",
   "metadata": {},
   "source": [
    "But if we were to use a `\\` to escape the quote, we won't have an error"
   ]
  },
  {
   "cell_type": "code",
   "execution_count": 37,
   "metadata": {},
   "outputs": [],
   "source": [
    "contains_quote = 'don\\'t'"
   ]
  },
  {
   "cell_type": "markdown",
   "metadata": {},
   "source": [
    "But typing `\\` to escape a quote can be tedious, so it's better to use double quotes instead to enclose a string that contains single quote characters and to use single quotes to enclose a string that contains double quote characters for readability purpose. For example:"
   ]
  },
  {
   "cell_type": "code",
   "execution_count": 38,
   "metadata": {},
   "outputs": [],
   "source": [
    "contains_quote = \"don't\"\n",
    "statement = 'The commentator said, \"Here comes Messi turning and twisting Phil Jones this way and that way.\".'"
   ]
  },
  {
   "cell_type": "markdown",
   "metadata": {},
   "source": [
    "#### Printing\n",
    "So far, We've been outputting the content of a variable by just typing the variable and running that cell, but that doesn't work when we require multiple outputs. For example:"
   ]
  },
  {
   "cell_type": "code",
   "execution_count": 40,
   "metadata": {},
   "outputs": [
    {
     "data": {
      "text/plain": [
       "\"don't\""
      ]
     },
     "execution_count": 40,
     "metadata": {},
     "output_type": "execute_result"
    }
   ],
   "source": [
    "statement\n",
    "contains_quote"
   ]
  },
  {
   "cell_type": "markdown",
   "metadata": {},
   "source": [
    "We can see that the content of `contains_quote` is not outputted. Fortunately, Python provides a function naturally named `print` that does that for us. Here is it in action"
   ]
  },
  {
   "cell_type": "code",
   "execution_count": 41,
   "metadata": {},
   "outputs": [
    {
     "name": "stdout",
     "output_type": "stream",
     "text": [
      "don't\n",
      "The commentator said, \"Here comes Messi turning and twisting Phil Jones this way and that way.\".\n"
     ]
    }
   ],
   "source": [
    "print(contains_quote)\n",
    "print(statement)"
   ]
  },
  {
   "cell_type": "markdown",
   "metadata": {},
   "source": [
    "Now we can see the content of all the variables in the above cell. For those eagle-eyed in the audience, notice that the quotes around the texts are not printed out.\n",
    "\n",
    "#### Concatenation\n",
    "When programming especially when dealing with texts, you might need to join group of strings to form one string. This is known as concatenation. In Python, the `+` operator is used for concatenation. Here is an example:"
   ]
  },
  {
   "cell_type": "code",
   "execution_count": 42,
   "metadata": {},
   "outputs": [
    {
     "name": "stdout",
     "output_type": "stream",
     "text": [
      "Hello World\n"
     ]
    }
   ],
   "source": [
    "hello_world = \"Hello \" + \"World\"\n",
    "print(hello_world)"
   ]
  },
  {
   "cell_type": "markdown",
   "metadata": {},
   "source": [
    "We can also do that with variables that reference strings. Like this:"
   ]
  },
  {
   "cell_type": "code",
   "execution_count": 43,
   "metadata": {},
   "outputs": [
    {
     "name": "stdout",
     "output_type": "stream",
     "text": [
      "Hello World\n"
     ]
    }
   ],
   "source": [
    "hello = \"Hello \"\n",
    "world = \"World\"\n",
    "hello_world = hello + world\n",
    "print(hello_world)"
   ]
  },
  {
   "cell_type": "markdown",
   "metadata": {},
   "source": [
    "But note that the variables must **Reference Strings**, so we would get an error if we were to do something like this:"
   ]
  },
  {
   "cell_type": "code",
   "execution_count": 44,
   "metadata": {},
   "outputs": [
    {
     "ename": "TypeError",
     "evalue": "must be str, not int",
     "output_type": "error",
     "traceback": [
      "\u001b[1;31m---------------------------------------------------------------------------\u001b[0m",
      "\u001b[1;31mTypeError\u001b[0m                                 Traceback (most recent call last)",
      "\u001b[1;32m<ipython-input-44-020e19201fc5>\u001b[0m in \u001b[0;36m<module>\u001b[1;34m()\u001b[0m\n\u001b[0;32m      1\u001b[0m \u001b[0mhello\u001b[0m \u001b[1;33m=\u001b[0m \u001b[1;34m\"Hello \"\u001b[0m\u001b[1;33m\u001b[0m\u001b[0m\n\u001b[0;32m      2\u001b[0m \u001b[0mworld\u001b[0m \u001b[1;33m=\u001b[0m \u001b[1;36m3\u001b[0m\u001b[1;33m\u001b[0m\u001b[0m\n\u001b[1;32m----> 3\u001b[1;33m \u001b[0mhello_world\u001b[0m \u001b[1;33m=\u001b[0m \u001b[0mhello\u001b[0m \u001b[1;33m+\u001b[0m \u001b[0mworld\u001b[0m\u001b[1;33m\u001b[0m\u001b[0m\n\u001b[0m",
      "\u001b[1;31mTypeError\u001b[0m: must be str, not int"
     ]
    }
   ],
   "source": [
    "hello = \"Hello \"\n",
    "world = 3\n",
    "hello_world = hello + world"
   ]
  },
  {
   "cell_type": "markdown",
   "metadata": {},
   "source": [
    "But we can correct the above error by converting the non-string varaiable like this"
   ]
  },
  {
   "cell_type": "code",
   "execution_count": 49,
   "metadata": {},
   "outputs": [
    {
     "name": "stdout",
     "output_type": "stream",
     "text": [
      "Hello 3\n"
     ]
    }
   ],
   "source": [
    "hello = \"Hello \"\n",
    "world = 3\n",
    "hello_world = hello + str(world)\n",
    "print(hello_world)"
   ]
  },
  {
   "cell_type": "markdown",
   "metadata": {},
   "source": [
    "#### Indexing\n",
    "**Note: Please pay close attention to this section, it has a lot of application on machine learning & data science in Python**  \n",
    "\n",
    "Sometimes you might want to get just a part of string. In many other programming languages, you might need to call a function called *substring*. In python, it's quite different. Let's say we have a variable referencing a string like this"
   ]
  },
  {
   "cell_type": "code",
   "execution_count": 50,
   "metadata": {},
   "outputs": [],
   "source": [
    "hello_world = \"Hello World\""
   ]
  },
  {
   "cell_type": "markdown",
   "metadata": {},
   "source": [
    "Let's say we want to get the first letter which in this case is `H`, we can reference it like this"
   ]
  },
  {
   "cell_type": "code",
   "execution_count": 51,
   "metadata": {},
   "outputs": [
    {
     "name": "stdout",
     "output_type": "stream",
     "text": [
      "H\n"
     ]
    }
   ],
   "source": [
    "h = hello_world[0]\n",
    "print(h)"
   ]
  },
  {
   "cell_type": "markdown",
   "metadata": {},
   "source": [
    "You might have noticed that we used 0 instead of 1, that is because Python is a zero-indexed programming language. This means that the first item starts at 0.  \n",
    "\n",
    "We might also want to get a slice of the string. Let's say we want to get `Hello`, we can just type this"
   ]
  },
  {
   "cell_type": "code",
   "execution_count": 52,
   "metadata": {},
   "outputs": [
    {
     "name": "stdout",
     "output_type": "stream",
     "text": [
      "Hello\n"
     ]
    }
   ],
   "source": [
    "hello = hello_world[0:5]\n",
    "print(hello)"
   ]
  },
  {
   "cell_type": "markdown",
   "metadata": {},
   "source": [
    "This is known as **slicing**. The column represents a range, like saying 0 to 5. You might notice that 5 should have been the space character, we can confirm it right now"
   ]
  },
  {
   "cell_type": "code",
   "execution_count": 53,
   "metadata": {},
   "outputs": [
    {
     "data": {
      "text/plain": [
       "' '"
      ]
     },
     "execution_count": 53,
     "metadata": {},
     "output_type": "execute_result"
    }
   ],
   "source": [
    "hello_world[5]"
   ]
  },
  {
   "cell_type": "markdown",
   "metadata": {},
   "source": [
    "So the 5 represents the length, not the index. But wait a minute ✋, if we were to do something like this"
   ]
  },
  {
   "cell_type": "code",
   "execution_count": 54,
   "metadata": {},
   "outputs": [
    {
     "name": "stdout",
     "output_type": "stream",
     "text": [
      "llo\n"
     ]
    }
   ],
   "source": [
    "hello = hello_world[2:5]\n",
    "print(hello)"
   ]
  },
  {
   "cell_type": "markdown",
   "metadata": {},
   "source": [
    "We can confirm that `5` isn't the length, the way I love to do this is to say, I want the *end index* to be the sum of my *start index* and the length of the string I want. So if I want the word `World`, I will just look for the index of `W` and add 5 to it. Like this"
   ]
  },
  {
   "cell_type": "code",
   "execution_count": 55,
   "metadata": {},
   "outputs": [
    {
     "name": "stdout",
     "output_type": "stream",
     "text": [
      "World\n"
     ]
    }
   ],
   "source": [
    "world = hello_world[6:11]\n",
    "print(world)"
   ]
  },
  {
   "cell_type": "markdown",
   "metadata": {},
   "source": [
    "You might notice that World is like at the end of the string. Another way we can get it from the string is by doing this"
   ]
  },
  {
   "cell_type": "code",
   "execution_count": 56,
   "metadata": {},
   "outputs": [
    {
     "name": "stdout",
     "output_type": "stream",
     "text": [
      "World\n"
     ]
    }
   ],
   "source": [
    "world = hello_world[6:]\n",
    "print(world)"
   ]
  },
  {
   "cell_type": "code",
   "execution_count": 57,
   "metadata": {},
   "outputs": [
    {
     "name": "stdout",
     "output_type": "stream",
     "text": [
      "Hello\n"
     ]
    }
   ],
   "source": [
    "hello = hello_world[:5]\n",
    "print(hello)"
   ]
  },
  {
   "cell_type": "markdown",
   "metadata": {},
   "source": [
    "So `[start_index:]` is like saying from `start_index` to the end of the string.  \n",
    "\n",
    "Python also allows numbers that are larger than the length of the string in the end index e.g"
   ]
  },
  {
   "cell_type": "code",
   "execution_count": 59,
   "metadata": {},
   "outputs": [
    {
     "name": "stdout",
     "output_type": "stream",
     "text": [
      "World\n"
     ]
    }
   ],
   "source": [
    "world = hello_world[6:800]\n",
    "print(world)"
   ]
  },
  {
   "cell_type": "markdown",
   "metadata": {},
   "source": [
    "You will observe that it works like the `[start_index:]` method. Note that if you use a large number for the `start_index`, it will return an empty string"
   ]
  },
  {
   "cell_type": "code",
   "execution_count": 60,
   "metadata": {},
   "outputs": [
    {
     "name": "stdout",
     "output_type": "stream",
     "text": [
      "\n"
     ]
    }
   ],
   "source": [
    "world = hello_world[800:900]\n",
    "print(world)"
   ]
  },
  {
   "cell_type": "markdown",
   "metadata": {},
   "source": [
    "But if you were to use that as a single index, you will get an error"
   ]
  },
  {
   "cell_type": "code",
   "execution_count": 61,
   "metadata": {},
   "outputs": [
    {
     "ename": "IndexError",
     "evalue": "string index out of range",
     "output_type": "error",
     "traceback": [
      "\u001b[1;31m---------------------------------------------------------------------------\u001b[0m",
      "\u001b[1;31mIndexError\u001b[0m                                Traceback (most recent call last)",
      "\u001b[1;32m<ipython-input-61-50cc4cb69d10>\u001b[0m in \u001b[0;36m<module>\u001b[1;34m()\u001b[0m\n\u001b[1;32m----> 1\u001b[1;33m \u001b[0merror_string\u001b[0m \u001b[1;33m=\u001b[0m \u001b[0mhello_world\u001b[0m\u001b[1;33m[\u001b[0m\u001b[1;36m800\u001b[0m\u001b[1;33m]\u001b[0m\u001b[1;33m\u001b[0m\u001b[0m\n\u001b[0m",
      "\u001b[1;31mIndexError\u001b[0m: string index out of range"
     ]
    }
   ],
   "source": [
    "error_string = hello_world[800]"
   ]
  },
  {
   "cell_type": "markdown",
   "metadata": {},
   "source": [
    "Python also supports negative index. The difference between negative index and positive index is that negative index starts from the end of the string. So if we do this"
   ]
  },
  {
   "cell_type": "code",
   "execution_count": 62,
   "metadata": {},
   "outputs": [
    {
     "name": "stdout",
     "output_type": "stream",
     "text": [
      "d\n"
     ]
    }
   ],
   "source": [
    "d = hello_world[-1]\n",
    "print(d)"
   ]
  },
  {
   "cell_type": "markdown",
   "metadata": {},
   "source": [
    "We can also use them as `start_index` and `end_index` like this"
   ]
  },
  {
   "cell_type": "code",
   "execution_count": 63,
   "metadata": {},
   "outputs": [
    {
     "name": "stdout",
     "output_type": "stream",
     "text": [
      "Worl\n"
     ]
    }
   ],
   "source": [
    "world = hello_world[-5:-1]\n",
    "print(world)"
   ]
  },
  {
   "cell_type": "markdown",
   "metadata": {},
   "source": [
    "So you can see that the above statements exclude the last letter just like the way positive indexes work.  \n",
    "\n",
    "#### Length\n",
    "Sometimes, we might need the length of a string. In Python, we do like this with the `len` function"
   ]
  },
  {
   "cell_type": "code",
   "execution_count": 64,
   "metadata": {},
   "outputs": [
    {
     "name": "stdout",
     "output_type": "stream",
     "text": [
      "11\n"
     ]
    }
   ],
   "source": [
    "length = len(hello_world)\n",
    "print(length)"
   ]
  },
  {
   "cell_type": "markdown",
   "metadata": {},
   "source": [
    "### Sequences\n",
    "\n",
    "So far, we've done data types and variables. There are several times when we would love to hold a bunch of them in a container and reference them and one, we call those **sequences** in Python. There are three fundamental sequence types in python which are:  \n",
    "\n",
    "* Lists\n",
    "* Dictionaries\n",
    "* Tuples\n",
    "\n",
    "#### Lists\n",
    "If you're familiar with programming, you might know about arrays. Lists are the equivalent in Python. Let's see an example:"
   ]
  },
  {
   "cell_type": "code",
   "execution_count": 65,
   "metadata": {},
   "outputs": [],
   "source": [
    "apps = ['Facebook', 'Twitter', 'Whatsapp', 'Instagram', 'Linkedin', 'Snapchat']"
   ]
  },
  {
   "cell_type": "markdown",
   "metadata": {},
   "source": [
    "We can easily print out the contents of a list by just doing this:"
   ]
  },
  {
   "cell_type": "code",
   "execution_count": 66,
   "metadata": {},
   "outputs": [
    {
     "name": "stdout",
     "output_type": "stream",
     "text": [
      "['Facebook', 'Twitter', 'Whatsapp', 'Instagram', 'Linkedin', 'Snapchat']\n"
     ]
    }
   ],
   "source": [
    "print(apps)"
   ]
  },
  {
   "cell_type": "markdown",
   "metadata": {},
   "source": [
    "We can also get the length of a list by using the same function we used on string which is `len` again"
   ]
  },
  {
   "cell_type": "code",
   "execution_count": 67,
   "metadata": {},
   "outputs": [
    {
     "name": "stdout",
     "output_type": "stream",
     "text": [
      "6\n"
     ]
    }
   ],
   "source": [
    "length = len(apps)\n",
    "print(length)"
   ]
  },
  {
   "cell_type": "markdown",
   "metadata": {},
   "source": [
    "##### Looping\n",
    "Sometimes, we may want to go through each item and perform some operations on them. We can do that in Python with `while` and `for` statements. Let's see the usage of `for`"
   ]
  },
  {
   "cell_type": "code",
   "execution_count": 70,
   "metadata": {},
   "outputs": [
    {
     "name": "stdout",
     "output_type": "stream",
     "text": [
      "Facebook 8\n",
      "Twitter 8\n",
      "Whatsapp 8\n",
      "Instagram 8\n",
      "Linkedin 8\n",
      "Snapchat 8\n"
     ]
    }
   ],
   "source": [
    "for item in apps:\n",
    "    print(item, len('Facebook'))"
   ]
  },
  {
   "cell_type": "markdown",
   "metadata": {},
   "source": [
    "You will notice I didn't use the curly brackets `{}`. This is because python is a whitespace language, so it uses tabs as a delimiter instead of brackets. Let's see a usage of while (Note: we need to be careful, there be dragons there)"
   ]
  },
  {
   "cell_type": "code",
   "execution_count": 73,
   "metadata": {},
   "outputs": [
    {
     "name": "stdout",
     "output_type": "stream",
     "text": [
      "Whatsapp\n",
      "Instagram\n",
      "Linkedin\n",
      "Snapchat\n"
     ]
    }
   ],
   "source": [
    "index = 2\n",
    "length = len(apps)\n",
    "while index < length:\n",
    "    item = apps[index]\n",
    "    print(item)\n",
    "    index += 1"
   ]
  },
  {
   "cell_type": "markdown",
   "metadata": {},
   "source": [
    "😅, that went off without a hitch  \n",
    "You would have notice that it's more complicated that the `for` statement above to get the same result. So I will try to explain each line 1 by 1 so that you can understand  \n",
    "`index = 0`: We are saying we want to start from 0, remember strings  \n",
    "`length = len(apps)`: We want to get the length of the list  \n",
    "`while index < length:`: As far as index is less than the list size, execute the following white spaced delimited block  \n",
    "`item = apps[index]`: Get the current item that is at the index of the `apps` list  \n",
    "`print(item)`: Print the current item  \n",
    "`index += 1`: Increment the index by 1  \n",
    "\n",
    "**Important!!!!!**: The last line of the while loop block is very important because if we don't put it, index will always be equal to zero and the loop will never end. This is known as **infinite loop** and many tears have flowed and are currently flowing because of it.  \n",
    "\n",
    "You might ask why you need to use while when you can just use the `for` statement. Well, sometimes you need to use the index for something and it's easier to do that with the while loop. You can actually get it in the `for` statement. This will be left as a homework to the class 😉\n",
    "\n",
    "##### Adding new item\n",
    "\n",
    "We can add new items to a list by: \n",
    "* Appending an item to the back of the list\n",
    "* Inserting an item in a certain position\n",
    "* Adding the items of another list to the list  \n",
    "\n",
    "Let's see examples:\n",
    "###### Appending"
   ]
  },
  {
   "cell_type": "code",
   "execution_count": 74,
   "metadata": {},
   "outputs": [
    {
     "name": "stdout",
     "output_type": "stream",
     "text": [
      "['Facebook', 'Whatsapp', 'Instagram']\n"
     ]
    }
   ],
   "source": [
    "small_list = ['Facebook', 'Whatsapp']\n",
    "small_list.append('Instagram')\n",
    "print(small_list)"
   ]
  },
  {
   "cell_type": "markdown",
   "metadata": {},
   "source": [
    "###### Inserting"
   ]
  },
  {
   "cell_type": "code",
   "execution_count": 75,
   "metadata": {},
   "outputs": [
    {
     "name": "stdout",
     "output_type": "stream",
     "text": [
      "['Facebook', 'Twitter', 'Whatsapp', 'Instagram']\n"
     ]
    }
   ],
   "source": [
    "small_list.insert(1, 'Twitter')\n",
    "print(small_list)"
   ]
  },
  {
   "cell_type": "markdown",
   "metadata": {},
   "source": [
    "###### Extending the list with another list"
   ]
  },
  {
   "cell_type": "code",
   "execution_count": 79,
   "metadata": {},
   "outputs": [
    {
     "name": "stdout",
     "output_type": "stream",
     "text": [
      "['Linkedin', 'Snapchat', 'Facebook', 'Twitter', 'Whatsapp', 'Instagram']\n"
     ]
    }
   ],
   "source": [
    "another_list = [\"Linkedin\", \"Snapchat\"]\n",
    "apps = another_list + small_list\n",
    "print(apps)"
   ]
  },
  {
   "cell_type": "markdown",
   "metadata": {},
   "source": [
    "##### Indexing\n",
    "\n",
    "The indexing operations in lists work exactly like that of strings so we won't go over this again but let me show some examples"
   ]
  },
  {
   "cell_type": "code",
   "execution_count": 80,
   "metadata": {},
   "outputs": [
    {
     "name": "stdout",
     "output_type": "stream",
     "text": [
      "F\n",
      "['Snapchat', 'Facebook']\n",
      "['Whatsapp', 'Instagram']\n",
      "Instagram\n"
     ]
    }
   ],
   "source": [
    "print(apps[2][0])\n",
    "print(apps[1:3])\n",
    "print(apps[4:])\n",
    "print(apps[-1])"
   ]
  },
  {
   "cell_type": "markdown",
   "metadata": {},
   "source": [
    "#### Dictionaries\n",
    "\n",
    "In programming, there is a need for a map data structure/container. In python, this is known as a **dictionary**. Let's see an example"
   ]
  },
  {
   "cell_type": "code",
   "execution_count": 81,
   "metadata": {},
   "outputs": [],
   "source": [
    "bible_chapters = {'first': 'Genesis', 'second': 'Exodus', 'third': 'Leviticus', 'fourth': 'Numbers', 'fifth': 'Deutoronomy'}"
   ]
  },
  {
   "cell_type": "markdown",
   "metadata": {},
   "source": [
    "This is a container containing a **key** and a **value**. If we want to get a value, we use the key as a reference for it. For example, if we were to get the word 'Genesis', we would use 'first' as a key to get it like this"
   ]
  },
  {
   "cell_type": "code",
   "execution_count": 82,
   "metadata": {},
   "outputs": [
    {
     "name": "stdout",
     "output_type": "stream",
     "text": [
      "Genesis\n"
     ]
    }
   ],
   "source": [
    "genesis = bible_chapters['first']\n",
    "print(genesis)"
   ]
  },
  {
   "cell_type": "markdown",
   "metadata": {},
   "source": [
    "You will notice that it uses the same syntax as the string/lists indexing, the difference is that it uses easy to remember keys instead of numbers. We can also point a key to a new value like this:"
   ]
  },
  {
   "cell_type": "code",
   "execution_count": 83,
   "metadata": {},
   "outputs": [
    {
     "name": "stdout",
     "output_type": "stream",
     "text": [
      "{'first': 'The beginning', 'second': 'Exodus', 'third': 'Leviticus', 'fourth': 'Numbers', 'fifth': 'Deutoronomy'}\n"
     ]
    }
   ],
   "source": [
    "bible_chapters['first'] = 'The beginning'\n",
    "print(bible_chapters)"
   ]
  },
  {
   "cell_type": "markdown",
   "metadata": {},
   "source": [
    "##### Looping\n",
    "\n",
    "We can also loop through a dictionary like we did for lists, but since we don't need the index as a number we can ignore the `while` statements and use only `for` statement. Let's see it in action"
   ]
  },
  {
   "cell_type": "code",
   "execution_count": 84,
   "metadata": {},
   "outputs": [
    {
     "name": "stdout",
     "output_type": "stream",
     "text": [
      "first: The beginning\n",
      "second: Exodus\n",
      "third: Leviticus\n",
      "fourth: Numbers\n",
      "fifth: Deutoronomy\n"
     ]
    }
   ],
   "source": [
    "for key, value in bible_chapters.items():\n",
    "    print(f\"{key}: {value}\")"
   ]
  },
  {
   "cell_type": "markdown",
   "metadata": {},
   "source": [
    "You see that we can get the key and value of each item by using `.items()` from the dictionary. We would have only the keys if we did this"
   ]
  },
  {
   "cell_type": "code",
   "execution_count": 87,
   "metadata": {},
   "outputs": [
    {
     "name": "stdout",
     "output_type": "stream",
     "text": [
      "first: The beginning\n",
      "second: Exodus\n",
      "third: Leviticus\n",
      "fourth: Numbers\n",
      "fifth: Deutoronomy\n"
     ]
    }
   ],
   "source": [
    "for key in bible_chapters:\n",
    "    print(f\"{key}: {bible_chapters[key]}\")"
   ]
  },
  {
   "cell_type": "markdown",
   "metadata": {},
   "source": [
    "We can also get the length of a dictionary by using our trusty old friend `len`"
   ]
  },
  {
   "cell_type": "code",
   "execution_count": 88,
   "metadata": {},
   "outputs": [
    {
     "data": {
      "text/plain": [
       "5"
      ]
     },
     "execution_count": 88,
     "metadata": {},
     "output_type": "execute_result"
    }
   ],
   "source": [
    "len(bible_chapters)"
   ]
  },
  {
   "cell_type": "markdown",
   "metadata": {},
   "source": [
    "#### Tuples\n",
    "\n",
    "Tuples are exactly like lists except for two things\n",
    "* Syntax\n",
    "* Immutability\n",
    "\n",
    "Here is how tuples are written"
   ]
  },
  {
   "cell_type": "code",
   "execution_count": 89,
   "metadata": {},
   "outputs": [
    {
     "name": "stdout",
     "output_type": "stream",
     "text": [
      "('list', 'dictionary', 'tuple')\n"
     ]
    }
   ],
   "source": [
    "sequences = ('list', 'dictionary', 'tuple')\n",
    "print(sequences)"
   ]
  },
  {
   "cell_type": "markdown",
   "metadata": {},
   "source": [
    "You can see that they use `()` instead of `[]`. Tuples also cannot be changed i.e they are immutable. So those operations we used to add new items to lists cannot work for lists. We will get an error if we do this"
   ]
  },
  {
   "cell_type": "code",
   "execution_count": 90,
   "metadata": {},
   "outputs": [
    {
     "ename": "TypeError",
     "evalue": "'tuple' object does not support item assignment",
     "output_type": "error",
     "traceback": [
      "\u001b[1;31m---------------------------------------------------------------------------\u001b[0m",
      "\u001b[1;31mTypeError\u001b[0m                                 Traceback (most recent call last)",
      "\u001b[1;32m<ipython-input-90-d016c6b8e0bb>\u001b[0m in \u001b[0;36m<module>\u001b[1;34m()\u001b[0m\n\u001b[1;32m----> 1\u001b[1;33m \u001b[0msequences\u001b[0m\u001b[1;33m[\u001b[0m\u001b[1;36m1\u001b[0m\u001b[1;33m]\u001b[0m \u001b[1;33m=\u001b[0m \u001b[1;34m'set'\u001b[0m\u001b[1;33m\u001b[0m\u001b[0m\n\u001b[0m",
      "\u001b[1;31mTypeError\u001b[0m: 'tuple' object does not support item assignment"
     ]
    }
   ],
   "source": [
    "sequences[1] = 'set'"
   ]
  },
  {
   "cell_type": "markdown",
   "metadata": {},
   "source": [
    "But if the above was a list, we can do that. For example"
   ]
  },
  {
   "cell_type": "code",
   "execution_count": 91,
   "metadata": {},
   "outputs": [
    {
     "name": "stdout",
     "output_type": "stream",
     "text": [
      "['list', 'dictionary', 'tuple']\n",
      "['list', 'set', 'tuple']\n"
     ]
    }
   ],
   "source": [
    "sequence_list = ['list', 'dictionary', 'tuple']\n",
    "print(sequence_list)\n",
    "sequence_list[1] = 'set'\n",
    "print(sequence_list)"
   ]
  },
  {
   "cell_type": "code",
   "execution_count": 93,
   "metadata": {},
   "outputs": [
    {
     "name": "stdout",
     "output_type": "stream",
     "text": [
      "[5, 6, 3, 22, 1, 5, 9]\n",
      "[1, 3, 5, 6, 9, 22]\n"
     ]
    }
   ],
   "source": [
    "my_list = [5, 6, 3, 22, 1, 5, 9]\n",
    "print(my_list)\n",
    "new_set = list(set(my_list))\n",
    "print(new_set)"
   ]
  },
  {
   "cell_type": "markdown",
   "metadata": {},
   "source": [
    "Indexing, looping and getting the length is the same as lists  \n",
    "\n",
    "There are other data structures or containers or sequences in Python, the reader/student are encouraged to read more on that.\n",
    "\n",
    "### Control Structure\n",
    "\n",
    "Life is all about choice and so when writing softwares that follow life's way, we need to have the ability to implement that choice. In python, we use the trusty old `if`, `elif` and `else` statements to do that. This is how it's written"
   ]
  },
  {
   "cell_type": "code",
   "execution_count": 95,
   "metadata": {},
   "outputs": [
    {
     "name": "stdout",
     "output_type": "stream",
     "text": [
      "Even\n"
     ]
    }
   ],
   "source": [
    "x = 56\n",
    "if x == 0:\n",
    "    print(\"Zero\")\n",
    "elif x % 2 == 0:\n",
    "    print(\"Even\")\n",
    "else:\n",
    "    print(\"Odd\")"
   ]
  },
  {
   "cell_type": "markdown",
   "metadata": {},
   "source": [
    "This is similar to the `while` and `for` statements. I believe you have deduced already that python doesn't use `{}` unlike several other programming languages.\n",
    "\n",
    "### Functions\n",
    "\n",
    "Remeber when variables prevented you from repeated writing of one line statements, **functions** prevents you from repeated writing of several lines of code. Using the above zero-even-odd expression above, imagine if we wanted x to reference a different number. We would have to repeat typing out that control structure like this:"
   ]
  },
  {
   "cell_type": "code",
   "execution_count": 96,
   "metadata": {},
   "outputs": [
    {
     "name": "stdout",
     "output_type": "stream",
     "text": [
      "Odd\n"
     ]
    }
   ],
   "source": [
    "x = 11\n",
    "if x == 0:\n",
    "    print(\"Zero\")\n",
    "elif x % 2 == 0:\n",
    "    print(\"Even\")\n",
    "else:\n",
    "    print(\"Odd\")"
   ]
  },
  {
   "cell_type": "markdown",
   "metadata": {},
   "source": [
    "Even though it works, that's still goes against a basic tenet of computer science i.e Don't Repeat Yourself (DRY). We can easily prevent that problem by using a **function**. Functions in python are written like this:"
   ]
  },
  {
   "cell_type": "code",
   "execution_count": 97,
   "metadata": {},
   "outputs": [],
   "source": [
    "def number_type(x):\n",
    "    if x == 0:\n",
    "        print(\"Zero\")\n",
    "    elif x % 2 == 0:\n",
    "        print(\"Even\")\n",
    "    else:\n",
    "        print(\"Odd\")"
   ]
  },
  {
   "cell_type": "markdown",
   "metadata": {},
   "source": [
    "Let me break the above code down:  \n",
    "The `def` keyword defines the function  \n",
    "The `number_type` is the name we give to the function  \n",
    "The `x` in `()` is known as the parameter or argument of the function  \n",
    "What is inside the function is known as the function block  \n",
    "You will notice that we didn't use `{}` brackets because Python is a **whitespace** based programming language. To use the above function, we can just type it out like this:"
   ]
  },
  {
   "cell_type": "code",
   "execution_count": 98,
   "metadata": {},
   "outputs": [
    {
     "name": "stdout",
     "output_type": "stream",
     "text": [
      "Odd\n",
      "Even\n"
     ]
    }
   ],
   "source": [
    "number_type(3)\n",
    "number_type(30)"
   ]
  },
  {
   "cell_type": "markdown",
   "metadata": {},
   "source": [
    "You can see that we used 3 and 30 as the argument of the function.  \n",
    "\n",
    "You might be wondering, what of if we want to use the result in future calculation, e.g let's say we want to implement quadratic equation of the structure  $$x^{2} + 2x + 4$$ but we want to get $$2 \\times (x^{2} + 2x + 4)$$ we can use the **return** statement and multiply the result of that equation with 2. "
   ]
  },
  {
   "cell_type": "code",
   "execution_count": 99,
   "metadata": {},
   "outputs": [],
   "source": [
    "def quadratic_eqn(x):\n",
    "    answer = x**2 + 2*x + 4\n",
    "    return answer"
   ]
  },
  {
   "cell_type": "code",
   "execution_count": 100,
   "metadata": {},
   "outputs": [],
   "source": [
    "answer = quadratic_eqn(2)"
   ]
  },
  {
   "cell_type": "code",
   "execution_count": 101,
   "metadata": {},
   "outputs": [
    {
     "name": "stdout",
     "output_type": "stream",
     "text": [
      "24\n"
     ]
    }
   ],
   "source": [
    "print ( 2 * answer )"
   ]
  },
  {
   "cell_type": "markdown",
   "metadata": {},
   "source": [
    "Notice how the earlier statement did not print any output, that is because the return statement generates the output of the function and then it's up to you to do with it whatever you see fit.\n",
    "\n",
    "#### Default Parameter\n",
    "From the `number_type` function implemented above, we had it print out **Zero** if the value of `x` was zero. But we all know that there are several ways of describing zero, it could be *\"Nothing\"*, *\"Oh\"* or even *\"ziro\"*. What of if we give the caller of the function the ability to set what they want as a description of zero. Here it is:"
   ]
  },
  {
   "cell_type": "code",
   "execution_count": 102,
   "metadata": {},
   "outputs": [],
   "source": [
    "def number_type(x, describe_zero):\n",
    "    if x == 0:\n",
    "        print(describe_zero)\n",
    "    elif x % 2 == 0:\n",
    "        print(\"Even\")\n",
    "    else:\n",
    "        print(\"Odd\")"
   ]
  },
  {
   "cell_type": "markdown",
   "metadata": {},
   "source": [
    "The `describe_zero` parameter is what we want to print out if the value of `x` is zero. If we were to call the function like before, it will generate an error"
   ]
  },
  {
   "cell_type": "code",
   "execution_count": 103,
   "metadata": {},
   "outputs": [
    {
     "ename": "TypeError",
     "evalue": "number_type() missing 1 required positional argument: 'describe_zero'",
     "output_type": "error",
     "traceback": [
      "\u001b[1;31m---------------------------------------------------------------------------\u001b[0m",
      "\u001b[1;31mTypeError\u001b[0m                                 Traceback (most recent call last)",
      "\u001b[1;32m<ipython-input-103-b7c4c811e164>\u001b[0m in \u001b[0;36m<module>\u001b[1;34m()\u001b[0m\n\u001b[1;32m----> 1\u001b[1;33m \u001b[0mnumber_type\u001b[0m\u001b[1;33m(\u001b[0m\u001b[1;36m0\u001b[0m\u001b[1;33m)\u001b[0m\u001b[1;33m\u001b[0m\u001b[0m\n\u001b[0m",
      "\u001b[1;31mTypeError\u001b[0m: number_type() missing 1 required positional argument: 'describe_zero'"
     ]
    }
   ],
   "source": [
    "number_type(0)"
   ]
  },
  {
   "cell_type": "markdown",
   "metadata": {},
   "source": [
    "But if we do this"
   ]
  },
  {
   "cell_type": "code",
   "execution_count": 104,
   "metadata": {},
   "outputs": [
    {
     "name": "stdout",
     "output_type": "stream",
     "text": [
      "Ziro\n"
     ]
    }
   ],
   "source": [
    "number_type(0, \"Ziro\")"
   ]
  },
  {
   "cell_type": "markdown",
   "metadata": {},
   "source": [
    "But there is a problem with the above way of implementation. Most of the time, the caller of the function is okay with \"Zero\". But we are forcing them to set something that by default is okay for them. What of if we implement the function in such a way that we maintain the flexibility of describing zero and also make it easy for most of the users of this function 🤔. Well, Python provides just that in an easy way, this is known as **default/keyword argument**. It is written like this:"
   ]
  },
  {
   "cell_type": "code",
   "execution_count": 105,
   "metadata": {},
   "outputs": [],
   "source": [
    "def number_type(x, describe_zero=\"Zero\"):\n",
    "    if x == 0:\n",
    "        print(describe_zero)\n",
    "    elif x % 2 == 0:\n",
    "        print(\"Even\")\n",
    "    else:\n",
    "        print(\"Odd\")"
   ]
  },
  {
   "cell_type": "markdown",
   "metadata": {},
   "source": [
    "So we can call it like these"
   ]
  },
  {
   "cell_type": "code",
   "execution_count": 106,
   "metadata": {},
   "outputs": [
    {
     "name": "stdout",
     "output_type": "stream",
     "text": [
      "Zero\n",
      "Ziro\n"
     ]
    }
   ],
   "source": [
    "number_type(0)\n",
    "number_type(0, \"Ziro\")"
   ]
  },
  {
   "cell_type": "markdown",
   "metadata": {},
   "source": [
    "So you can see that this makes us solve our dilemma with minimal change to how we define our functions."
   ]
  },
  {
   "cell_type": "markdown",
   "metadata": {},
   "source": [
    "#### Variable arguments\n",
    "\n",
    "Imagine a function like this"
   ]
  },
  {
   "cell_type": "code",
   "execution_count": 107,
   "metadata": {},
   "outputs": [
    {
     "name": "stdout",
     "output_type": "stream",
     "text": [
      "6\n",
      "10\n"
     ]
    }
   ],
   "source": [
    "t = max(1, 2, 3, 4, 5, 6)\n",
    "x = max(10, 2, 3)\n",
    "print(t)\n",
    "print(x)"
   ]
  },
  {
   "cell_type": "markdown",
   "metadata": {},
   "source": [
    "You can see that the `max` function returns the maximum value in it's parameter. Apart from that, you can see that it accepts any number of arguments. In python you can create a function like the `max` function. Let's do one that adds up all the parameters: "
   ]
  },
  {
   "cell_type": "code",
   "execution_count": 108,
   "metadata": {},
   "outputs": [],
   "source": [
    "def my_sum(*args):\n",
    "    final_answer = 0\n",
    "    print(type(args))\n",
    "    for arg in args:\n",
    "        final_answer += arg\n",
    "    return final_answer"
   ]
  },
  {
   "cell_type": "code",
   "execution_count": 109,
   "metadata": {},
   "outputs": [
    {
     "name": "stdout",
     "output_type": "stream",
     "text": [
      "<class 'tuple'>\n"
     ]
    },
    {
     "data": {
      "text/plain": [
       "21"
      ]
     },
     "execution_count": 109,
     "metadata": {},
     "output_type": "execute_result"
    }
   ],
   "source": [
    "my_sum(1, 2, 3, 4, 5, 6)"
   ]
  },
  {
   "cell_type": "code",
   "execution_count": 110,
   "metadata": {},
   "outputs": [
    {
     "name": "stdout",
     "output_type": "stream",
     "text": [
      "<class 'tuple'>\n"
     ]
    },
    {
     "data": {
      "text/plain": [
       "15"
      ]
     },
     "execution_count": 110,
     "metadata": {},
     "output_type": "execute_result"
    }
   ],
   "source": [
    "my_sum(10, 2, 3)"
   ]
  },
  {
   "cell_type": "markdown",
   "metadata": {},
   "source": [
    "Quite simple right? Well the secret is in the `*args` parameter. What this does is to convert the arguments of the function to a tuple which you can then loop through.  \n",
    "\n",
    "We can also do the same for default/keyword arguments"
   ]
  },
  {
   "cell_type": "code",
   "execution_count": 111,
   "metadata": {},
   "outputs": [],
   "source": [
    "def cube(**kwargs):\n",
    "    for k, v in kwargs.items():\n",
    "        print(f\"cube of {k}: {v**3}\")"
   ]
  },
  {
   "cell_type": "code",
   "execution_count": 112,
   "metadata": {},
   "outputs": [
    {
     "name": "stdout",
     "output_type": "stream",
     "text": [
      "cube of first: 8\n",
      "cube of second: 125\n",
      "cube of fourth: 512\n"
     ]
    }
   ],
   "source": [
    "cube(first=2, second=5, fourth=8)"
   ]
  },
  {
   "cell_type": "markdown",
   "metadata": {},
   "source": [
    "So you can see that `**kwargs` unpacks the keyword arguments into a dictionary.\n",
    "\n",
    "*Note: You can mix both kinds of variable argument in a function*"
   ]
  },
  {
   "cell_type": "markdown",
   "metadata": {},
   "source": [
    "#### Lambda Function\n",
    "\n",
    "Let's say we have a list"
   ]
  },
  {
   "cell_type": "code",
   "execution_count": 113,
   "metadata": {},
   "outputs": [],
   "source": [
    "countries = ['Nigeria', 'Senegal', 'Togo', 'Benin']"
   ]
  },
  {
   "cell_type": "markdown",
   "metadata": {},
   "source": [
    "We can sort the list in alphabetical order like this"
   ]
  },
  {
   "cell_type": "code",
   "execution_count": 114,
   "metadata": {},
   "outputs": [
    {
     "name": "stdout",
     "output_type": "stream",
     "text": [
      "['Benin', 'Nigeria', 'Senegal', 'Togo']\n"
     ]
    }
   ],
   "source": [
    "countries = sorted(countries)\n",
    "print(countries)"
   ]
  },
  {
   "cell_type": "markdown",
   "metadata": {},
   "source": [
    "The `sorted` function has a keyword argument called `key` which is there to control the criteria of sorting. For example, let's say we want to sort based on length of the country. We can do this:"
   ]
  },
  {
   "cell_type": "code",
   "execution_count": 118,
   "metadata": {},
   "outputs": [
    {
     "name": "stdout",
     "output_type": "stream",
     "text": [
      "['Togo', 'Benin', 'Senegal', 'Nigeria']\n"
     ]
    }
   ],
   "source": [
    "countries = ['Senegal', 'Nigeria', 'Togo', 'Benin']\n",
    "sort_by_length = sorted(countries, key=len)\n",
    "print(sort_by_length)"
   ]
  },
  {
   "cell_type": "markdown",
   "metadata": {},
   "source": [
    "That seems cool right 😎. What of if we want to sort based on the last letter of the countries. We could do this:"
   ]
  },
  {
   "cell_type": "code",
   "execution_count": 116,
   "metadata": {},
   "outputs": [
    {
     "name": "stdout",
     "output_type": "stream",
     "text": [
      "['Nigeria', 'Senegal', 'Benin', 'Togo']\n"
     ]
    }
   ],
   "source": [
    "def get_last_letter(country):\n",
    "    return country[-1]\n",
    "\n",
    "sort_by_last_letter = sorted(countries, key=get_last_letter)\n",
    "print(sort_by_last_letter)"
   ]
  },
  {
   "cell_type": "markdown",
   "metadata": {},
   "source": [
    "As it's said `'Naija dey come first but na from back'`. Defining a function that is used in only one instance doesn't seem right. We can do the same in such a way that defining it takes only one line. We do"
   ]
  },
  {
   "cell_type": "code",
   "execution_count": 117,
   "metadata": {},
   "outputs": [
    {
     "name": "stdout",
     "output_type": "stream",
     "text": [
      "['Nigeria', 'Senegal', 'Benin', 'Togo']\n"
     ]
    }
   ],
   "source": [
    "sort_by_last_letter = sorted(countries, key=lambda x: x[-1])\n",
    "print(sort_by_last_letter)"
   ]
  },
  {
   "cell_type": "markdown",
   "metadata": {},
   "source": [
    "You can see that it's more elegant than just defining a function we call once. This term is called **lambda function or anonymous function**. It is used in cases like the above. "
   ]
  },
  {
   "cell_type": "markdown",
   "metadata": {},
   "source": [
    "### Modules\n",
    "\n",
    "So far we've covered some (**NOT ALL!!!**) core functionalities in Python, but what of if we want to use some more functionalities. Let there be a variable"
   ]
  },
  {
   "cell_type": "code",
   "execution_count": 119,
   "metadata": {},
   "outputs": [],
   "source": [
    "t = 3.5677"
   ]
  },
  {
   "cell_type": "markdown",
   "metadata": {},
   "source": [
    "We can easily round up to the nearest integer."
   ]
  },
  {
   "cell_type": "code",
   "execution_count": 120,
   "metadata": {},
   "outputs": [
    {
     "data": {
      "text/plain": [
       "4"
      ]
     },
     "execution_count": 120,
     "metadata": {},
     "output_type": "execute_result"
    }
   ],
   "source": [
    "round(t)"
   ]
  },
  {
   "cell_type": "markdown",
   "metadata": {},
   "source": [
    "But what of if we wanted to round down. Unfortunately, there is no core function in python that does that 😑. Well, there is module we can use that has that functionality. It's called the `math` module. We can call it like this"
   ]
  },
  {
   "cell_type": "code",
   "execution_count": 121,
   "metadata": {},
   "outputs": [],
   "source": [
    "import math"
   ]
  },
  {
   "cell_type": "markdown",
   "metadata": {},
   "source": [
    "And then have this"
   ]
  },
  {
   "cell_type": "code",
   "execution_count": 122,
   "metadata": {},
   "outputs": [
    {
     "data": {
      "text/plain": [
       "3"
      ]
     },
     "execution_count": 122,
     "metadata": {},
     "output_type": "execute_result"
    }
   ],
   "source": [
    "math.floor(t)"
   ]
  },
  {
   "cell_type": "markdown",
   "metadata": {},
   "source": [
    "Niceee 👏. There are other ways we can import it. We can do this"
   ]
  },
  {
   "cell_type": "code",
   "execution_count": 123,
   "metadata": {},
   "outputs": [
    {
     "data": {
      "text/plain": [
       "3"
      ]
     },
     "execution_count": 123,
     "metadata": {},
     "output_type": "execute_result"
    }
   ],
   "source": [
    "from math import floor\n",
    "\n",
    "floor(t)"
   ]
  },
  {
   "cell_type": "markdown",
   "metadata": {},
   "source": [
    "Or......."
   ]
  },
  {
   "cell_type": "code",
   "execution_count": 124,
   "metadata": {},
   "outputs": [
    {
     "data": {
      "text/plain": [
       "3"
      ]
     },
     "execution_count": 124,
     "metadata": {},
     "output_type": "execute_result"
    }
   ],
   "source": [
    "from math import floor as round_down\n",
    "\n",
    "round_down(t)"
   ]
  },
  {
   "cell_type": "markdown",
   "metadata": {},
   "source": [
    "Also the `math` module contains other functions like `ceil`"
   ]
  },
  {
   "cell_type": "code",
   "execution_count": 125,
   "metadata": {},
   "outputs": [
    {
     "data": {
      "text/plain": [
       "4"
      ]
     },
     "execution_count": 125,
     "metadata": {},
     "output_type": "execute_result"
    }
   ],
   "source": [
    "import math\n",
    "\n",
    "math.ceil(t)"
   ]
  },
  {
   "cell_type": "markdown",
   "metadata": {},
   "source": [
    "`square root`"
   ]
  },
  {
   "cell_type": "code",
   "execution_count": 126,
   "metadata": {},
   "outputs": [
    {
     "data": {
      "text/plain": [
       "3.0"
      ]
     },
     "execution_count": 126,
     "metadata": {},
     "output_type": "execute_result"
    }
   ],
   "source": [
    "math.sqrt(9)"
   ]
  },
  {
   "cell_type": "markdown",
   "metadata": {},
   "source": [
    "`log` and *`e`*"
   ]
  },
  {
   "cell_type": "code",
   "execution_count": 127,
   "metadata": {},
   "outputs": [
    {
     "name": "stdout",
     "output_type": "stream",
     "text": [
      "1.3862943611198906\n",
      "20.085536923187668\n",
      "2.0\n"
     ]
    }
   ],
   "source": [
    "print(math.log(4))\n",
    "print(math.exp(3))\n",
    "print(math.log(100, 10))"
   ]
  },
  {
   "cell_type": "markdown",
   "metadata": {},
   "source": [
    "Even `gcd` or `lcm` 😲"
   ]
  },
  {
   "cell_type": "code",
   "execution_count": 128,
   "metadata": {},
   "outputs": [
    {
     "data": {
      "text/plain": [
       "12"
      ]
     },
     "execution_count": 128,
     "metadata": {},
     "output_type": "execute_result"
    }
   ],
   "source": [
    "math.gcd(24, 12)"
   ]
  },
  {
   "cell_type": "markdown",
   "metadata": {},
   "source": [
    "There are several functions in the math module, you are encouraged to check the python doc for more. Another nice module is the `os` module. Here are some of it's function:"
   ]
  },
  {
   "cell_type": "code",
   "execution_count": 129,
   "metadata": {},
   "outputs": [
    {
     "name": "stdout",
     "output_type": "stream",
     "text": [
      "The Operating System in this system is nt\n",
      "The owner of this system is DELL 5559\n",
      "The size of this screen is os.terminal_size(columns=120, lines=30)\n"
     ]
    }
   ],
   "source": [
    "import os\n",
    "\n",
    "print(f\"The Operating System in this system is {os.name}\")\n",
    "print(f\"The owner of this system is {os.getlogin()}\")\n",
    "print(f\"The size of this screen is {os.get_terminal_size()}\")"
   ]
  },
  {
   "cell_type": "markdown",
   "metadata": {},
   "source": [
    "That is all for the overview. You are encouraged to go practice with Python to get a better understanding of it. Some of the things you should go read up and practice are:\n",
    "* String formatting\n",
    "* String Methods\n",
    "* More on Indexing and Slicing\n",
    "* List Comprehension\n",
    "* File handling\n",
    "* Math module \n",
    "* Basic regular expression  \n",
    "\n",
    "Check out this [Python tutorial](https://docs.python.org/3/tutorial/) and the [Python doc](https://docs.python.org/) for materials to learn from.\n",
    "\n",
    "Please your learning materials should not be limited to the above. Most importantly, have fun while learning😁. "
   ]
  },
  {
   "cell_type": "code",
   "execution_count": null,
   "metadata": {},
   "outputs": [],
   "source": []
  }
 ],
 "metadata": {
  "kernelspec": {
   "display_name": "Python 3",
   "language": "python",
   "name": "python3"
  },
  "language_info": {
   "codemirror_mode": {
    "name": "ipython",
    "version": 3
   },
   "file_extension": ".py",
   "mimetype": "text/x-python",
   "name": "python",
   "nbconvert_exporter": "python",
   "pygments_lexer": "ipython3",
   "version": "3.6.5"
  }
 },
 "nbformat": 4,
 "nbformat_minor": 2
}
